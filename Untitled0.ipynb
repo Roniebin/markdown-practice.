{
  "nbformat": 4,
  "nbformat_minor": 0,
  "metadata": {
    "colab": {
      "name": "Untitled0.ipynb",
      "provenance": [],
      "authorship_tag": "ABX9TyNXmstGKTkg9xnmOZ0CYyBO",
      "include_colab_link": true
    },
    "kernelspec": {
      "name": "python3",
      "display_name": "Python 3"
    },
    "language_info": {
      "name": "python"
    }
  },
  "cells": [
    {
      "cell_type": "markdown",
      "metadata": {
        "id": "view-in-github",
        "colab_type": "text"
      },
      "source": [ㄹㄴㅇㄹ
        "<a href=\"https://colab.research.google.com/github/Roniebin/markdown-practice./blob/main/Untitled0.ipynb\" target=\"_parent\"><img src=\"https://colab.research.google.com/assets/colab-badge.svg\" alt=\"Open In Colab\"/></a>"
      ]
    },
    {
      "cell_type": "markdown",
      "source": [
        "# Heading 1 \n",
        "## Heading 2\n",
        "### Heading 3\n",
        "#### Heading 4\n",
        "##### Heading 5 "
      ],
      "metadata": {
        "id": "OiL41jmjxAdz"
      }
    },
    {
      "cell_type": "markdown",
      "source": [
        "**Bold**\n",
        "\n",
        "*italic*\n",
        "\n",
        "~~strikethrough~~\n"
      ],
      "metadata": {
        "id": "NJRht3RM7CTC"
      }
    },
    {
      "cell_type": "markdown",
      "source": [
        ">don't forget to code your dream\n",
        "\n",
        "Fruits:\n",
        "* 사과\n",
        "* 레몬\n",
        "\n",
        "other fruits:\n",
        "- 수박\n",
        "- 복숭아\n",
        "\n",
        "Number:\n",
        "1. first\n",
        "2. second\n",
        "3. third"
      ],
      "metadata": {
        "id": "WR6Umwqa7N3O"
      }
    },
    {
      "cell_type": "markdown",
      "source": [
        "Click[here](https://www.youtube.com/watch?v=kMEb_BzyUqk)"
      ],
      "metadata": {
        "id": "Q9JECAen8BMi"
      }
    },
    {
      "cell_type": "markdown",
      "source": [
        "|Header|Descritpion|\n",
        "|:--:|:--:|\n",
        "|cell1|cell2|\n",
        "|cell1|cell2|\n",
        "|cell1|cell2|\n",
        "|cell1|cell2|\n"
      ],
      "metadata": {
        "id": "oRoqdL1x8c3h"
      }
    },
    {
      "cell_type": "markdown",
      "source": [
        "to print message in the consle, use\n",
        "`console.log('your message')` and . .\n",
        "\n",
        "```python\n",
        "console.log('your message')\n",
        "```\n",
        "\n"
      ],
      "metadata": {
        "id": "4PTvPVqN9A5q"
      }
    }
  ]
}
